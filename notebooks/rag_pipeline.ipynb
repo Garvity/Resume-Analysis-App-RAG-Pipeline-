{
 "cells": [
  {
   "cell_type": "code",
   "execution_count": 2,
   "id": "07d87ed1",
   "metadata": {},
   "outputs": [],
   "source": [
    "import re\n",
    "import pandas as pd\n",
    "from langchain.text_splitter import RecursiveCharacterTextSplitter\n",
    "from langchain_community.embeddings import HuggingFaceEmbeddings\n",
    "from langchain_community.vectorstores import FAISS"
   ]
  },
  {
   "cell_type": "code",
   "execution_count": 3,
   "id": "6c9a8600",
   "metadata": {},
   "outputs": [],
   "source": [
    "import os\n",
    "\n",
    "job_file = '/Users/garv/PROJECTS/rsa1/data/job_title_des.csv'\n",
    "resume_file = '/Users/garv/PROJECTS/rsa1/data/UpdatedResumeDataSet.csv'\n",
    "\n",
    "if not os.path.exists(job_file):\n",
    "\tprint(f\"File not found: {job_file}\")\n",
    "else:\n",
    "\tjob_df = pd.read_csv(job_file)\n",
    "\n",
    "if not os.path.exists(resume_file):\n",
    "\tprint(f\"File not found: {resume_file}\")\n",
    "else:\n",
    "\tresume_df = pd.read_csv(resume_file)"
   ]
  },
  {
   "cell_type": "code",
   "execution_count": 4,
   "id": "5b5b5e7d",
   "metadata": {},
   "outputs": [
    {
     "data": {
      "text/html": [
       "<div>\n",
       "<style scoped>\n",
       "    .dataframe tbody tr th:only-of-type {\n",
       "        vertical-align: middle;\n",
       "    }\n",
       "\n",
       "    .dataframe tbody tr th {\n",
       "        vertical-align: top;\n",
       "    }\n",
       "\n",
       "    .dataframe thead th {\n",
       "        text-align: right;\n",
       "    }\n",
       "</style>\n",
       "<table border=\"1\" class=\"dataframe\">\n",
       "  <thead>\n",
       "    <tr style=\"text-align: right;\">\n",
       "      <th></th>\n",
       "      <th>Unnamed: 0</th>\n",
       "      <th>Job Title</th>\n",
       "      <th>Job Description</th>\n",
       "    </tr>\n",
       "  </thead>\n",
       "  <tbody>\n",
       "    <tr>\n",
       "      <th>0</th>\n",
       "      <td>0</td>\n",
       "      <td>Flutter Developer</td>\n",
       "      <td>We are looking for hire experts flutter develo...</td>\n",
       "    </tr>\n",
       "    <tr>\n",
       "      <th>1</th>\n",
       "      <td>1</td>\n",
       "      <td>Django Developer</td>\n",
       "      <td>PYTHON/DJANGO (Developer/Lead) - Job Code(PDJ ...</td>\n",
       "    </tr>\n",
       "    <tr>\n",
       "      <th>2</th>\n",
       "      <td>2</td>\n",
       "      <td>Machine Learning</td>\n",
       "      <td>Data Scientist (Contractor)\\n\\nBangalore, IN\\n...</td>\n",
       "    </tr>\n",
       "    <tr>\n",
       "      <th>3</th>\n",
       "      <td>3</td>\n",
       "      <td>iOS Developer</td>\n",
       "      <td>JOB DESCRIPTION:\\n\\nStrong framework outside o...</td>\n",
       "    </tr>\n",
       "    <tr>\n",
       "      <th>4</th>\n",
       "      <td>4</td>\n",
       "      <td>Full Stack Developer</td>\n",
       "      <td>job responsibility full stack engineer – react...</td>\n",
       "    </tr>\n",
       "  </tbody>\n",
       "</table>\n",
       "</div>"
      ],
      "text/plain": [
       "   Unnamed: 0             Job Title  \\\n",
       "0           0     Flutter Developer   \n",
       "1           1      Django Developer   \n",
       "2           2      Machine Learning   \n",
       "3           3         iOS Developer   \n",
       "4           4  Full Stack Developer   \n",
       "\n",
       "                                     Job Description  \n",
       "0  We are looking for hire experts flutter develo...  \n",
       "1  PYTHON/DJANGO (Developer/Lead) - Job Code(PDJ ...  \n",
       "2  Data Scientist (Contractor)\\n\\nBangalore, IN\\n...  \n",
       "3  JOB DESCRIPTION:\\n\\nStrong framework outside o...  \n",
       "4  job responsibility full stack engineer – react...  "
      ]
     },
     "metadata": {},
     "output_type": "display_data"
    },
    {
     "name": "stdout",
     "output_type": "stream",
     "text": [
      "<class 'pandas.core.frame.DataFrame'>\n",
      "RangeIndex: 2277 entries, 0 to 2276\n",
      "Data columns (total 3 columns):\n",
      " #   Column           Non-Null Count  Dtype \n",
      "---  ------           --------------  ----- \n",
      " 0   Unnamed: 0       2277 non-null   int64 \n",
      " 1   Job Title        2277 non-null   object\n",
      " 2   Job Description  2277 non-null   object\n",
      "dtypes: int64(1), object(2)\n",
      "memory usage: 53.5+ KB\n"
     ]
    },
    {
     "data": {
      "text/plain": [
       "None"
      ]
     },
     "metadata": {},
     "output_type": "display_data"
    },
    {
     "data": {
      "text/html": [
       "<div>\n",
       "<style scoped>\n",
       "    .dataframe tbody tr th:only-of-type {\n",
       "        vertical-align: middle;\n",
       "    }\n",
       "\n",
       "    .dataframe tbody tr th {\n",
       "        vertical-align: top;\n",
       "    }\n",
       "\n",
       "    .dataframe thead th {\n",
       "        text-align: right;\n",
       "    }\n",
       "</style>\n",
       "<table border=\"1\" class=\"dataframe\">\n",
       "  <thead>\n",
       "    <tr style=\"text-align: right;\">\n",
       "      <th></th>\n",
       "      <th>Category</th>\n",
       "      <th>Resume</th>\n",
       "    </tr>\n",
       "  </thead>\n",
       "  <tbody>\n",
       "    <tr>\n",
       "      <th>0</th>\n",
       "      <td>Data Science</td>\n",
       "      <td>Skills * Programming Languages: Python (pandas...</td>\n",
       "    </tr>\n",
       "    <tr>\n",
       "      <th>1</th>\n",
       "      <td>Data Science</td>\n",
       "      <td>Education Details \\r\\nMay 2013 to May 2017 B.E...</td>\n",
       "    </tr>\n",
       "    <tr>\n",
       "      <th>2</th>\n",
       "      <td>Data Science</td>\n",
       "      <td>Areas of Interest Deep Learning, Control Syste...</td>\n",
       "    </tr>\n",
       "    <tr>\n",
       "      <th>3</th>\n",
       "      <td>Data Science</td>\n",
       "      <td>Skills â¢ R â¢ Python â¢ SAP HANA â¢ Table...</td>\n",
       "    </tr>\n",
       "    <tr>\n",
       "      <th>4</th>\n",
       "      <td>Data Science</td>\n",
       "      <td>Education Details \\r\\n MCA   YMCAUST,  Faridab...</td>\n",
       "    </tr>\n",
       "  </tbody>\n",
       "</table>\n",
       "</div>"
      ],
      "text/plain": [
       "       Category                                             Resume\n",
       "0  Data Science  Skills * Programming Languages: Python (pandas...\n",
       "1  Data Science  Education Details \\r\\nMay 2013 to May 2017 B.E...\n",
       "2  Data Science  Areas of Interest Deep Learning, Control Syste...\n",
       "3  Data Science  Skills â¢ R â¢ Python â¢ SAP HANA â¢ Table...\n",
       "4  Data Science  Education Details \\r\\n MCA   YMCAUST,  Faridab..."
      ]
     },
     "metadata": {},
     "output_type": "display_data"
    },
    {
     "name": "stdout",
     "output_type": "stream",
     "text": [
      "<class 'pandas.core.frame.DataFrame'>\n",
      "RangeIndex: 962 entries, 0 to 961\n",
      "Data columns (total 2 columns):\n",
      " #   Column    Non-Null Count  Dtype \n",
      "---  ------    --------------  ----- \n",
      " 0   Category  962 non-null    object\n",
      " 1   Resume    962 non-null    object\n",
      "dtypes: object(2)\n",
      "memory usage: 15.2+ KB\n"
     ]
    },
    {
     "data": {
      "text/plain": [
       "None"
      ]
     },
     "metadata": {},
     "output_type": "display_data"
    }
   ],
   "source": [
    "display(job_df.head())\n",
    "display(job_df.info())\n",
    "display(resume_df.head())\n",
    "display(resume_df.info())"
   ]
  },
  {
   "cell_type": "code",
   "execution_count": 5,
   "id": "8398b82f",
   "metadata": {},
   "outputs": [],
   "source": [
    "job_df.drop(columns=[\"Unnamed: 0\"],axis=1,inplace=True)\n",
    "job_df.drop_duplicates(inplace=True)\n",
    "job_df.dropna(subset=[\"Job Description\"], inplace=True)\n",
    "job_df.reset_index(drop=True, inplace=True)\n",
    "resume_df.drop_duplicates(inplace=True)\n",
    "resume_df.dropna(subset=[\"Resume\"], inplace=True)\n",
    "resume_df.reset_index(drop=True, inplace=True)"
   ]
  },
  {
   "cell_type": "code",
   "execution_count": 6,
   "id": "2982c53f",
   "metadata": {},
   "outputs": [
    {
     "data": {
      "text/html": [
       "<div>\n",
       "<style scoped>\n",
       "    .dataframe tbody tr th:only-of-type {\n",
       "        vertical-align: middle;\n",
       "    }\n",
       "\n",
       "    .dataframe tbody tr th {\n",
       "        vertical-align: top;\n",
       "    }\n",
       "\n",
       "    .dataframe thead th {\n",
       "        text-align: right;\n",
       "    }\n",
       "</style>\n",
       "<table border=\"1\" class=\"dataframe\">\n",
       "  <thead>\n",
       "    <tr style=\"text-align: right;\">\n",
       "      <th></th>\n",
       "      <th>Job Description</th>\n",
       "      <th>cleaned_description</th>\n",
       "    </tr>\n",
       "  </thead>\n",
       "  <tbody>\n",
       "    <tr>\n",
       "      <th>0</th>\n",
       "      <td>we are looking for hire experts flutter develo...</td>\n",
       "      <td>we are looking for hire experts flutter develo...</td>\n",
       "    </tr>\n",
       "    <tr>\n",
       "      <th>1</th>\n",
       "      <td>python/django (developer/lead) - job code(pdj ...</td>\n",
       "      <td>python/django (developer/lead) - job code(pdj ...</td>\n",
       "    </tr>\n",
       "    <tr>\n",
       "      <th>2</th>\n",
       "      <td>data scientist (contractor)\\nbangalore, in\\nre...</td>\n",
       "      <td>data scientist (contractor)\\nbangalore, in\\nre...</td>\n",
       "    </tr>\n",
       "    <tr>\n",
       "      <th>3</th>\n",
       "      <td>job description:\\nstrong framework outside of ...</td>\n",
       "      <td>job description:\\nstrong framework outside of ...</td>\n",
       "    </tr>\n",
       "    <tr>\n",
       "      <th>4</th>\n",
       "      <td>job responsibility full stack engineer react r...</td>\n",
       "      <td>job responsibility full stack engineer react r...</td>\n",
       "    </tr>\n",
       "  </tbody>\n",
       "</table>\n",
       "</div>"
      ],
      "text/plain": [
       "                                     Job Description  \\\n",
       "0  we are looking for hire experts flutter develo...   \n",
       "1  python/django (developer/lead) - job code(pdj ...   \n",
       "2  data scientist (contractor)\\nbangalore, in\\nre...   \n",
       "3  job description:\\nstrong framework outside of ...   \n",
       "4  job responsibility full stack engineer react r...   \n",
       "\n",
       "                                 cleaned_description  \n",
       "0  we are looking for hire experts flutter develo...  \n",
       "1  python/django (developer/lead) - job code(pdj ...  \n",
       "2  data scientist (contractor)\\nbangalore, in\\nre...  \n",
       "3  job description:\\nstrong framework outside of ...  \n",
       "4  job responsibility full stack engineer react r...  "
      ]
     },
     "metadata": {},
     "output_type": "display_data"
    },
    {
     "data": {
      "text/html": [
       "<div>\n",
       "<style scoped>\n",
       "    .dataframe tbody tr th:only-of-type {\n",
       "        vertical-align: middle;\n",
       "    }\n",
       "\n",
       "    .dataframe tbody tr th {\n",
       "        vertical-align: top;\n",
       "    }\n",
       "\n",
       "    .dataframe thead th {\n",
       "        text-align: right;\n",
       "    }\n",
       "</style>\n",
       "<table border=\"1\" class=\"dataframe\">\n",
       "  <thead>\n",
       "    <tr style=\"text-align: right;\">\n",
       "      <th></th>\n",
       "      <th>Resume</th>\n",
       "      <th>cleaned_resume</th>\n",
       "    </tr>\n",
       "  </thead>\n",
       "  <tbody>\n",
       "    <tr>\n",
       "      <th>0</th>\n",
       "      <td>skills * programming languages: python (pandas...</td>\n",
       "      <td>skills * programming languages: python (pandas...</td>\n",
       "    </tr>\n",
       "    <tr>\n",
       "      <th>1</th>\n",
       "      <td>education details \\nmay 2013 to may 2017 b.e u...</td>\n",
       "      <td>education details \\nmay 2013 to may 2017 b.e u...</td>\n",
       "    </tr>\n",
       "    <tr>\n",
       "      <th>2</th>\n",
       "      <td>areas of interest deep learning, control syste...</td>\n",
       "      <td>areas of interest deep learning, control syste...</td>\n",
       "    </tr>\n",
       "    <tr>\n",
       "      <th>3</th>\n",
       "      <td>skills r python sap hana tableau sap hana sql ...</td>\n",
       "      <td>skills r python sap hana tableau sap hana sql ...</td>\n",
       "    </tr>\n",
       "    <tr>\n",
       "      <th>4</th>\n",
       "      <td>education details \\n mca ymcaust, faridabad, h...</td>\n",
       "      <td>education details \\n mca ymcaust, faridabad, h...</td>\n",
       "    </tr>\n",
       "  </tbody>\n",
       "</table>\n",
       "</div>"
      ],
      "text/plain": [
       "                                              Resume  \\\n",
       "0  skills * programming languages: python (pandas...   \n",
       "1  education details \\nmay 2013 to may 2017 b.e u...   \n",
       "2  areas of interest deep learning, control syste...   \n",
       "3  skills r python sap hana tableau sap hana sql ...   \n",
       "4  education details \\n mca ymcaust, faridabad, h...   \n",
       "\n",
       "                                      cleaned_resume  \n",
       "0  skills * programming languages: python (pandas...  \n",
       "1  education details \\nmay 2013 to may 2017 b.e u...  \n",
       "2  areas of interest deep learning, control syste...  \n",
       "3  skills r python sap hana tableau sap hana sql ...  \n",
       "4  education details \\n mca ymcaust, faridabad, h...  "
      ]
     },
     "metadata": {},
     "output_type": "display_data"
    }
   ],
   "source": [
    "def clean_text(df,column):\n",
    "    \"\"\"Cleans text by converting to lowercase, removing special characters,\n",
    "    and handling whitespace.\"\"\"\n",
    "    try:\n",
    "        df[column] = df[column].astype(str)\n",
    "    except Exception as e:\n",
    "        print(f\"Error converting column {column} to string: {e}\")\n",
    "        return df[column]\n",
    "    df[column] = df[column].apply(lambda row: row.lower())\n",
    "    df[column] = df[column].apply(lambda row: re.sub(r\"[^\\x00-\\x7f]\", r\"\", row))\n",
    "    df[column] = df[column].apply(lambda row: re.sub(r\"\\t\", r\"\", row).strip())\n",
    "    df[column] = df[column].apply(lambda row: re.sub(r\"(\\n|\\r)+\", r\"\\n\", row).strip())\n",
    "    df[column] = df[column].apply(lambda row: re.sub(r\" +\", r\" \", row).strip())\n",
    "    return df[column]\n",
    "\n",
    "job_df['cleaned_description'] = clean_text(job_df, 'Job Description')\n",
    "resume_df['cleaned_resume'] = clean_text(resume_df, 'Resume')\n",
    "\n",
    "display(job_df[['Job Description', 'cleaned_description']].head())\n",
    "display(resume_df[['Resume', 'cleaned_resume']].head())"
   ]
  },
  {
   "cell_type": "code",
   "execution_count": 7,
   "id": "c572b38a",
   "metadata": {},
   "outputs": [],
   "source": [
    "from langchain.text_splitter import RecursiveCharacterTextSplitter\n",
    "\n",
    "text_splitter = RecursiveCharacterTextSplitter(\n",
    "    chunk_size=1000,\n",
    "    chunk_overlap=200,\n",
    "    length_function=len,\n",
    "    is_separator_regex=False,\n",
    ")"
   ]
  },
  {
   "cell_type": "code",
   "execution_count": 10,
   "id": "f396e82a",
   "metadata": {},
   "outputs": [
    {
     "name": "stdout",
     "output_type": "stream",
     "text": [
      "Created 2277 job documents and 6318 job chunks.\n",
      "Created 166 resume documents and 651 resume chunks.\n"
     ]
    }
   ],
   "source": [
    "from langchain.schema import Document\n",
    "\n",
    "job_descriptions = job_df['cleaned_description'].tolist()\n",
    "job_titles = job_df['Job Title'].tolist() # Get job titles\n",
    "\n",
    "# Create Document objects with text and metadata\n",
    "job_documents = [Document(page_content=desc, metadata={\"title\": title}) for desc, title in zip(job_descriptions, job_titles)]\n",
    "\n",
    "resumes = resume_df['cleaned_resume'].tolist()\n",
    "\n",
    "# For resumes, we can include the category as metadata\n",
    "resume_categories = resume_df['Category'].tolist()\n",
    "resume_documents = [Document(page_content=resume_text, metadata={\"category\": category}) for resume_text, category in zip(resumes, resume_categories)]\n",
    "\n",
    "\n",
    "job_chunks = text_splitter.split_documents(job_documents)\n",
    "resume_chunks = text_splitter.split_documents(resume_documents)\n",
    "\n",
    "print(f\"Created {len(job_documents)} job documents and {len(job_chunks)} job chunks.\")\n",
    "print(f\"Created {len(resume_documents)} resume documents and {len(resume_chunks)} resume chunks.\")"
   ]
  },
  {
   "cell_type": "code",
   "execution_count": 12,
   "id": "cfcd343f",
   "metadata": {},
   "outputs": [
    {
     "name": "stdout",
     "output_type": "stream",
     "text": [
      "Generated 6318 embeddings for job descriptions.\n",
      "Generated 651 embeddings for resumes.\n"
     ]
    }
   ],
   "source": [
    "from langchain_huggingface import HuggingFaceEmbeddings\n",
    "\n",
    "# Instantiate HuggingFaceEmbeddings\n",
    "embeddings = HuggingFaceEmbeddings(model_name=\"sentence-transformers/all-MiniLM-L6-v2\")\n",
    "\n",
    "# Create embeddings for job and resume chunks\n",
    "job_embeddings = embeddings.embed_documents([chunk.page_content for chunk in job_chunks])\n",
    "resume_embeddings = embeddings.embed_documents([chunk.page_content for chunk in resume_chunks])\n",
    "\n",
    "print(f\"Generated {len(job_embeddings)} embeddings for job descriptions.\")\n",
    "print(f\"Generated {len(resume_embeddings)} embeddings for resumes.\")"
   ]
  },
  {
   "cell_type": "code",
   "execution_count": 13,
   "id": "21d75bec",
   "metadata": {},
   "outputs": [
    {
     "name": "stdout",
     "output_type": "stream",
     "text": [
      "FAISS vector stores created for job descriptions and resumes.\n"
     ]
    }
   ],
   "source": [
    "from langchain_community.vectorstores import FAISS\n",
    "\n",
    "# Create a FAISS vector store for job chunks\n",
    "job_vector_store = FAISS.from_documents(job_chunks, embeddings)\n",
    "\n",
    "# Create a FAISS vector store for resume chunks\n",
    "resume_vector_store = FAISS.from_documents(resume_chunks, embeddings)\n",
    "\n",
    "print(\"FAISS vector stores created for job descriptions and resumes.\")"
   ]
  },
  {
   "cell_type": "code",
   "execution_count": 15,
   "id": "98f330b8",
   "metadata": {},
   "outputs": [
    {
     "name": "stdout",
     "output_type": "stream",
     "text": [
      "Job vector store saved to: /Users/garv/PROJECTS/rsa1/vector_store/job_faiss\n",
      "Resume vector store saved to: /Users/garv/PROJECTS/rsa1/vector_store/resume_faiss\n"
     ]
    }
   ],
   "source": [
    "import os\n",
    "\n",
    "# Define the directory to save the vector stores\n",
    "vector_store_dir = \"/Users/garv/PROJECTS/rsa1/vector_store\"\n",
    "\n",
    "# Create the directory if it doesn't exist\n",
    "if not os.path.exists(vector_store_dir):\n",
    "    os.makedirs(vector_store_dir)\n",
    "\n",
    "# Save the job vector store\n",
    "job_vector_store_path = os.path.join(vector_store_dir, \"job_faiss\")\n",
    "job_vector_store.save_local(job_vector_store_path)\n",
    "\n",
    "# Save the resume vector store\n",
    "resume_vector_store_path = os.path.join(vector_store_dir, \"resume_faiss\")\n",
    "resume_vector_store.save_local(resume_vector_store_path)\n",
    "\n",
    "print(f\"Job vector store saved to: {job_vector_store_path}\")\n",
    "print(f\"Resume vector store saved to: {resume_vector_store_path}\")"
   ]
  }
 ],
 "metadata": {
  "kernelspec": {
   "display_name": "venv",
   "language": "python",
   "name": "python3"
  },
  "language_info": {
   "codemirror_mode": {
    "name": "ipython",
    "version": 3
   },
   "file_extension": ".py",
   "mimetype": "text/x-python",
   "name": "python",
   "nbconvert_exporter": "python",
   "pygments_lexer": "ipython3",
   "version": "3.10.11"
  }
 },
 "nbformat": 4,
 "nbformat_minor": 5
}
